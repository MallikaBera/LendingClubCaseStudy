{
 "cells": [
  {
   "cell_type": "markdown",
   "metadata": {},
   "source": [
    "# Lending Club Case Study"
   ]
  },
  {
   "cell_type": "markdown",
   "metadata": {},
   "source": [
    "**Problem Statement**"
   ]
  },
  {
   "cell_type": "markdown",
   "metadata": {},
   "source": [
    "### Read Dataset"
   ]
  },
  {
   "cell_type": "code",
   "execution_count": 1,
   "metadata": {},
   "outputs": [],
   "source": [
    "#import the libraries\n",
    "import numpy as np\n",
    "import pandas as pd"
   ]
  },
  {
   "cell_type": "code",
   "execution_count": 2,
   "metadata": {},
   "outputs": [
    {
     "name": "stderr",
     "output_type": "stream",
     "text": [
      "C:\\Users\\Saurabh\\AppData\\Local\\Temp\\ipykernel_37848\\929344193.py:2: DtypeWarning: Columns (47) have mixed types. Specify dtype option on import or set low_memory=False.\n",
      "  loan = pd.read_csv(r\"C:\\Users\\Saurabh\\OneDrive\\AI_ML\\Lending Club Case Study\\loan\\loan.csv\")\n"
     ]
    },
    {
     "data": {
      "text/html": [
       "<div>\n",
       "<style scoped>\n",
       "    .dataframe tbody tr th:only-of-type {\n",
       "        vertical-align: middle;\n",
       "    }\n",
       "\n",
       "    .dataframe tbody tr th {\n",
       "        vertical-align: top;\n",
       "    }\n",
       "\n",
       "    .dataframe thead th {\n",
       "        text-align: right;\n",
       "    }\n",
       "</style>\n",
       "<table border=\"1\" class=\"dataframe\">\n",
       "  <thead>\n",
       "    <tr style=\"text-align: right;\">\n",
       "      <th></th>\n",
       "      <th>id</th>\n",
       "      <th>member_id</th>\n",
       "      <th>loan_amnt</th>\n",
       "      <th>funded_amnt</th>\n",
       "      <th>funded_amnt_inv</th>\n",
       "      <th>term</th>\n",
       "      <th>int_rate</th>\n",
       "      <th>installment</th>\n",
       "      <th>grade</th>\n",
       "      <th>sub_grade</th>\n",
       "      <th>...</th>\n",
       "      <th>num_tl_90g_dpd_24m</th>\n",
       "      <th>num_tl_op_past_12m</th>\n",
       "      <th>pct_tl_nvr_dlq</th>\n",
       "      <th>percent_bc_gt_75</th>\n",
       "      <th>pub_rec_bankruptcies</th>\n",
       "      <th>tax_liens</th>\n",
       "      <th>tot_hi_cred_lim</th>\n",
       "      <th>total_bal_ex_mort</th>\n",
       "      <th>total_bc_limit</th>\n",
       "      <th>total_il_high_credit_limit</th>\n",
       "    </tr>\n",
       "  </thead>\n",
       "  <tbody>\n",
       "    <tr>\n",
       "      <th>0</th>\n",
       "      <td>1077501</td>\n",
       "      <td>1296599</td>\n",
       "      <td>5000</td>\n",
       "      <td>5000</td>\n",
       "      <td>4975.0</td>\n",
       "      <td>36 months</td>\n",
       "      <td>10.65%</td>\n",
       "      <td>162.87</td>\n",
       "      <td>B</td>\n",
       "      <td>B2</td>\n",
       "      <td>...</td>\n",
       "      <td>NaN</td>\n",
       "      <td>NaN</td>\n",
       "      <td>NaN</td>\n",
       "      <td>NaN</td>\n",
       "      <td>0.0</td>\n",
       "      <td>0.0</td>\n",
       "      <td>NaN</td>\n",
       "      <td>NaN</td>\n",
       "      <td>NaN</td>\n",
       "      <td>NaN</td>\n",
       "    </tr>\n",
       "    <tr>\n",
       "      <th>1</th>\n",
       "      <td>1077430</td>\n",
       "      <td>1314167</td>\n",
       "      <td>2500</td>\n",
       "      <td>2500</td>\n",
       "      <td>2500.0</td>\n",
       "      <td>60 months</td>\n",
       "      <td>15.27%</td>\n",
       "      <td>59.83</td>\n",
       "      <td>C</td>\n",
       "      <td>C4</td>\n",
       "      <td>...</td>\n",
       "      <td>NaN</td>\n",
       "      <td>NaN</td>\n",
       "      <td>NaN</td>\n",
       "      <td>NaN</td>\n",
       "      <td>0.0</td>\n",
       "      <td>0.0</td>\n",
       "      <td>NaN</td>\n",
       "      <td>NaN</td>\n",
       "      <td>NaN</td>\n",
       "      <td>NaN</td>\n",
       "    </tr>\n",
       "    <tr>\n",
       "      <th>2</th>\n",
       "      <td>1077175</td>\n",
       "      <td>1313524</td>\n",
       "      <td>2400</td>\n",
       "      <td>2400</td>\n",
       "      <td>2400.0</td>\n",
       "      <td>36 months</td>\n",
       "      <td>15.96%</td>\n",
       "      <td>84.33</td>\n",
       "      <td>C</td>\n",
       "      <td>C5</td>\n",
       "      <td>...</td>\n",
       "      <td>NaN</td>\n",
       "      <td>NaN</td>\n",
       "      <td>NaN</td>\n",
       "      <td>NaN</td>\n",
       "      <td>0.0</td>\n",
       "      <td>0.0</td>\n",
       "      <td>NaN</td>\n",
       "      <td>NaN</td>\n",
       "      <td>NaN</td>\n",
       "      <td>NaN</td>\n",
       "    </tr>\n",
       "    <tr>\n",
       "      <th>3</th>\n",
       "      <td>1076863</td>\n",
       "      <td>1277178</td>\n",
       "      <td>10000</td>\n",
       "      <td>10000</td>\n",
       "      <td>10000.0</td>\n",
       "      <td>36 months</td>\n",
       "      <td>13.49%</td>\n",
       "      <td>339.31</td>\n",
       "      <td>C</td>\n",
       "      <td>C1</td>\n",
       "      <td>...</td>\n",
       "      <td>NaN</td>\n",
       "      <td>NaN</td>\n",
       "      <td>NaN</td>\n",
       "      <td>NaN</td>\n",
       "      <td>0.0</td>\n",
       "      <td>0.0</td>\n",
       "      <td>NaN</td>\n",
       "      <td>NaN</td>\n",
       "      <td>NaN</td>\n",
       "      <td>NaN</td>\n",
       "    </tr>\n",
       "    <tr>\n",
       "      <th>4</th>\n",
       "      <td>1075358</td>\n",
       "      <td>1311748</td>\n",
       "      <td>3000</td>\n",
       "      <td>3000</td>\n",
       "      <td>3000.0</td>\n",
       "      <td>60 months</td>\n",
       "      <td>12.69%</td>\n",
       "      <td>67.79</td>\n",
       "      <td>B</td>\n",
       "      <td>B5</td>\n",
       "      <td>...</td>\n",
       "      <td>NaN</td>\n",
       "      <td>NaN</td>\n",
       "      <td>NaN</td>\n",
       "      <td>NaN</td>\n",
       "      <td>0.0</td>\n",
       "      <td>0.0</td>\n",
       "      <td>NaN</td>\n",
       "      <td>NaN</td>\n",
       "      <td>NaN</td>\n",
       "      <td>NaN</td>\n",
       "    </tr>\n",
       "  </tbody>\n",
       "</table>\n",
       "<p>5 rows × 111 columns</p>\n",
       "</div>"
      ],
      "text/plain": [
       "        id  member_id  loan_amnt  funded_amnt  funded_amnt_inv        term  \\\n",
       "0  1077501    1296599       5000         5000           4975.0   36 months   \n",
       "1  1077430    1314167       2500         2500           2500.0   60 months   \n",
       "2  1077175    1313524       2400         2400           2400.0   36 months   \n",
       "3  1076863    1277178      10000        10000          10000.0   36 months   \n",
       "4  1075358    1311748       3000         3000           3000.0   60 months   \n",
       "\n",
       "  int_rate  installment grade sub_grade  ... num_tl_90g_dpd_24m  \\\n",
       "0   10.65%       162.87     B        B2  ...                NaN   \n",
       "1   15.27%        59.83     C        C4  ...                NaN   \n",
       "2   15.96%        84.33     C        C5  ...                NaN   \n",
       "3   13.49%       339.31     C        C1  ...                NaN   \n",
       "4   12.69%        67.79     B        B5  ...                NaN   \n",
       "\n",
       "  num_tl_op_past_12m pct_tl_nvr_dlq  percent_bc_gt_75 pub_rec_bankruptcies  \\\n",
       "0                NaN            NaN               NaN                  0.0   \n",
       "1                NaN            NaN               NaN                  0.0   \n",
       "2                NaN            NaN               NaN                  0.0   \n",
       "3                NaN            NaN               NaN                  0.0   \n",
       "4                NaN            NaN               NaN                  0.0   \n",
       "\n",
       "  tax_liens tot_hi_cred_lim total_bal_ex_mort total_bc_limit  \\\n",
       "0       0.0             NaN               NaN            NaN   \n",
       "1       0.0             NaN               NaN            NaN   \n",
       "2       0.0             NaN               NaN            NaN   \n",
       "3       0.0             NaN               NaN            NaN   \n",
       "4       0.0             NaN               NaN            NaN   \n",
       "\n",
       "  total_il_high_credit_limit  \n",
       "0                        NaN  \n",
       "1                        NaN  \n",
       "2                        NaN  \n",
       "3                        NaN  \n",
       "4                        NaN  \n",
       "\n",
       "[5 rows x 111 columns]"
      ]
     },
     "execution_count": 2,
     "metadata": {},
     "output_type": "execute_result"
    }
   ],
   "source": [
    "#read the dataset and check the first five rows\n",
    "loan = pd.read_csv(r\"C:\\Users\\Saurabh\\OneDrive\\AI_ML\\Lending Club Case Study\\loan\\loan.csv\")\n",
    "loan.head()"
   ]
  },
  {
   "cell_type": "code",
   "execution_count": 3,
   "metadata": {},
   "outputs": [
    {
     "name": "stdout",
     "output_type": "stream",
     "text": [
      "<class 'pandas.core.frame.DataFrame'>\n",
      "RangeIndex: 39717 entries, 0 to 39716\n",
      "Data columns (total 111 columns):\n",
      " #    Column                          Non-Null Count  Dtype  \n",
      "---   ------                          --------------  -----  \n",
      " 0    id                              39717 non-null  int64  \n",
      " 1    member_id                       39717 non-null  int64  \n",
      " 2    loan_amnt                       39717 non-null  int64  \n",
      " 3    funded_amnt                     39717 non-null  int64  \n",
      " 4    funded_amnt_inv                 39717 non-null  float64\n",
      " 5    term                            39717 non-null  object \n",
      " 6    int_rate                        39717 non-null  object \n",
      " 7    installment                     39717 non-null  float64\n",
      " 8    grade                           39717 non-null  object \n",
      " 9    sub_grade                       39717 non-null  object \n",
      " 10   emp_title                       37258 non-null  object \n",
      " 11   emp_length                      38642 non-null  object \n",
      " 12   home_ownership                  39717 non-null  object \n",
      " 13   annual_inc                      39717 non-null  float64\n",
      " 14   verification_status             39717 non-null  object \n",
      " 15   issue_d                         39717 non-null  object \n",
      " 16   loan_status                     39717 non-null  object \n",
      " 17   pymnt_plan                      39717 non-null  object \n",
      " 18   url                             39717 non-null  object \n",
      " 19   desc                            26775 non-null  object \n",
      " 20   purpose                         39717 non-null  object \n",
      " 21   title                           39706 non-null  object \n",
      " 22   zip_code                        39717 non-null  object \n",
      " 23   addr_state                      39717 non-null  object \n",
      " 24   dti                             39717 non-null  float64\n",
      " 25   delinq_2yrs                     39717 non-null  int64  \n",
      " 26   earliest_cr_line                39717 non-null  object \n",
      " 27   inq_last_6mths                  39717 non-null  int64  \n",
      " 28   mths_since_last_delinq          14035 non-null  float64\n",
      " 29   mths_since_last_record          2786 non-null   float64\n",
      " 30   open_acc                        39717 non-null  int64  \n",
      " 31   pub_rec                         39717 non-null  int64  \n",
      " 32   revol_bal                       39717 non-null  int64  \n",
      " 33   revol_util                      39667 non-null  object \n",
      " 34   total_acc                       39717 non-null  int64  \n",
      " 35   initial_list_status             39717 non-null  object \n",
      " 36   out_prncp                       39717 non-null  float64\n",
      " 37   out_prncp_inv                   39717 non-null  float64\n",
      " 38   total_pymnt                     39717 non-null  float64\n",
      " 39   total_pymnt_inv                 39717 non-null  float64\n",
      " 40   total_rec_prncp                 39717 non-null  float64\n",
      " 41   total_rec_int                   39717 non-null  float64\n",
      " 42   total_rec_late_fee              39717 non-null  float64\n",
      " 43   recoveries                      39717 non-null  float64\n",
      " 44   collection_recovery_fee         39717 non-null  float64\n",
      " 45   last_pymnt_d                    39646 non-null  object \n",
      " 46   last_pymnt_amnt                 39717 non-null  float64\n",
      " 47   next_pymnt_d                    1140 non-null   object \n",
      " 48   last_credit_pull_d              39715 non-null  object \n",
      " 49   collections_12_mths_ex_med      39661 non-null  float64\n",
      " 50   mths_since_last_major_derog     0 non-null      float64\n",
      " 51   policy_code                     39717 non-null  int64  \n",
      " 52   application_type                39717 non-null  object \n",
      " 53   annual_inc_joint                0 non-null      float64\n",
      " 54   dti_joint                       0 non-null      float64\n",
      " 55   verification_status_joint       0 non-null      float64\n",
      " 56   acc_now_delinq                  39717 non-null  int64  \n",
      " 57   tot_coll_amt                    0 non-null      float64\n",
      " 58   tot_cur_bal                     0 non-null      float64\n",
      " 59   open_acc_6m                     0 non-null      float64\n",
      " 60   open_il_6m                      0 non-null      float64\n",
      " 61   open_il_12m                     0 non-null      float64\n",
      " 62   open_il_24m                     0 non-null      float64\n",
      " 63   mths_since_rcnt_il              0 non-null      float64\n",
      " 64   total_bal_il                    0 non-null      float64\n",
      " 65   il_util                         0 non-null      float64\n",
      " 66   open_rv_12m                     0 non-null      float64\n",
      " 67   open_rv_24m                     0 non-null      float64\n",
      " 68   max_bal_bc                      0 non-null      float64\n",
      " 69   all_util                        0 non-null      float64\n",
      " 70   total_rev_hi_lim                0 non-null      float64\n",
      " 71   inq_fi                          0 non-null      float64\n",
      " 72   total_cu_tl                     0 non-null      float64\n",
      " 73   inq_last_12m                    0 non-null      float64\n",
      " 74   acc_open_past_24mths            0 non-null      float64\n",
      " 75   avg_cur_bal                     0 non-null      float64\n",
      " 76   bc_open_to_buy                  0 non-null      float64\n",
      " 77   bc_util                         0 non-null      float64\n",
      " 78   chargeoff_within_12_mths        39661 non-null  float64\n",
      " 79   delinq_amnt                     39717 non-null  int64  \n",
      " 80   mo_sin_old_il_acct              0 non-null      float64\n",
      " 81   mo_sin_old_rev_tl_op            0 non-null      float64\n",
      " 82   mo_sin_rcnt_rev_tl_op           0 non-null      float64\n",
      " 83   mo_sin_rcnt_tl                  0 non-null      float64\n",
      " 84   mort_acc                        0 non-null      float64\n",
      " 85   mths_since_recent_bc            0 non-null      float64\n",
      " 86   mths_since_recent_bc_dlq        0 non-null      float64\n",
      " 87   mths_since_recent_inq           0 non-null      float64\n",
      " 88   mths_since_recent_revol_delinq  0 non-null      float64\n",
      " 89   num_accts_ever_120_pd           0 non-null      float64\n",
      " 90   num_actv_bc_tl                  0 non-null      float64\n",
      " 91   num_actv_rev_tl                 0 non-null      float64\n",
      " 92   num_bc_sats                     0 non-null      float64\n",
      " 93   num_bc_tl                       0 non-null      float64\n",
      " 94   num_il_tl                       0 non-null      float64\n",
      " 95   num_op_rev_tl                   0 non-null      float64\n",
      " 96   num_rev_accts                   0 non-null      float64\n",
      " 97   num_rev_tl_bal_gt_0             0 non-null      float64\n",
      " 98   num_sats                        0 non-null      float64\n",
      " 99   num_tl_120dpd_2m                0 non-null      float64\n",
      " 100  num_tl_30dpd                    0 non-null      float64\n",
      " 101  num_tl_90g_dpd_24m              0 non-null      float64\n",
      " 102  num_tl_op_past_12m              0 non-null      float64\n",
      " 103  pct_tl_nvr_dlq                  0 non-null      float64\n",
      " 104  percent_bc_gt_75                0 non-null      float64\n",
      " 105  pub_rec_bankruptcies            39020 non-null  float64\n",
      " 106  tax_liens                       39678 non-null  float64\n",
      " 107  tot_hi_cred_lim                 0 non-null      float64\n",
      " 108  total_bal_ex_mort               0 non-null      float64\n",
      " 109  total_bc_limit                  0 non-null      float64\n",
      " 110  total_il_high_credit_limit      0 non-null      float64\n",
      "dtypes: float64(74), int64(13), object(24)\n",
      "memory usage: 33.6+ MB\n"
     ]
    }
   ],
   "source": [
    "#Check the shape of the dataframe\n",
    "loan.shape\n",
    "loan.info(verbose=True, show_counts=True)"
   ]
  },
  {
   "cell_type": "markdown",
   "metadata": {},
   "source": [
    "### Data Handling and Cleaning"
   ]
  },
  {
   "cell_type": "markdown",
   "metadata": {},
   "source": [
    "\n",
    "- Columns are having incorrect format \n",
    "- Numerical Columns are having special characters \n",
    "- Columns having too many missing values\n",
    "- Columns having constant values such as 0 , xxx , 999 etc."
   ]
  },
  {
   "cell_type": "code",
   "execution_count": 4,
   "metadata": {},
   "outputs": [
    {
     "data": {
      "text/plain": [
       "id                                0\n",
       "member_id                         0\n",
       "loan_amnt                         0\n",
       "funded_amnt                       0\n",
       "funded_amnt_inv                   0\n",
       "                              ...  \n",
       "tax_liens                        39\n",
       "tot_hi_cred_lim               39717\n",
       "total_bal_ex_mort             39717\n",
       "total_bc_limit                39717\n",
       "total_il_high_credit_limit    39717\n",
       "Length: 111, dtype: int64"
      ]
     },
     "execution_count": 4,
     "metadata": {},
     "output_type": "execute_result"
    }
   ],
   "source": [
    "#Check the number of null values in the columns\n",
    "loan.isnull().sum() \n"
   ]
  },
  {
   "cell_type": "markdown",
   "metadata": {},
   "source": [
    "Observation: Too many columns are having null values which will not provide much insights\n",
    "\n",
    "Action: Drop columns having too many null values"
   ]
  },
  {
   "cell_type": "code",
   "execution_count": 5,
   "metadata": {},
   "outputs": [
    {
     "data": {
      "text/plain": [
       "(39717, 54)"
      ]
     },
     "execution_count": 5,
     "metadata": {},
     "output_type": "execute_result"
    }
   ],
   "source": [
    "# Check for columns with more than 50% missing values(NA)\n",
    "loan = loan.loc[:, (loan.isna().sum() < (loan.shape[0]/2))]\n",
    "loan.shape"
   ]
  },
  {
   "cell_type": "code",
   "execution_count": 6,
   "metadata": {},
   "outputs": [],
   "source": [
    "# Check for columns with more than 50% missing values(0)\n",
    "loan = loan.loc[:, ((loan == 0).sum() <(loan.shape[0]/2))]\n"
   ]
  },
  {
   "cell_type": "code",
   "execution_count": 7,
   "metadata": {},
   "outputs": [
    {
     "data": {
      "text/plain": [
       "4"
      ]
     },
     "execution_count": 7,
     "metadata": {},
     "output_type": "execute_result"
    }
   ],
   "source": [
    "#check rows with more than 50% NaN values\n",
    "loan.isna().sum(axis=1).max()\n",
    "\n",
    "## There arent any row which has too many null values"
   ]
  },
  {
   "cell_type": "code",
   "execution_count": 8,
   "metadata": {},
   "outputs": [
    {
     "data": {
      "text/plain": [
       "id       member_id  loan_amnt  funded_amnt  funded_amnt_inv  term        int_rate  installment  grade  sub_grade  emp_title               emp_length  home_ownership  annual_inc  verification_status  issue_d  loan_status  pymnt_plan  url                                                               desc                                                                                                                                                                                                                                                                                                                                                                                                                                                                                                                                                                                                                                                                                                                                                                                                                                                                                                                                                                                                                                                                                                                                                            purpose             title                                     zip_code  addr_state  dti    earliest_cr_line  inq_last_6mths  open_acc  revol_bal  revol_util  total_acc  initial_list_status  total_pymnt   total_pymnt_inv  total_rec_prncp  total_rec_int  last_pymnt_d  last_pymnt_amnt  last_credit_pull_d  policy_code  application_type\n",
       "55742    114426     7000       7000         672.803839        36 months  10.71%    228.22       B      B5         CNN                     < 1 year    RENT            65000.0     Not Verified         May-08   Fully Paid   n           https://lendingclub.com/browse/loanDetail.action?loan_id=55742    Just want to pay off the last bit of credit card debt at a better rate.                                                                                                                                                                                                                                                                                                                                                                                                                                                                                                                                                                                                                                                                                                                                                                                                                                                                                                                                                                                                                                                                                         credit_card         Credit Card payoff                        112xx     NY          14.29  Oct-00            0               7         33623      76.70%      7          f                    8215.537060   684.94           7000.00          1215.54        Jun-11        228.48           Aug-12              1            INDIVIDUAL          1\n",
       "749396   948628     5600       5600         5600.000000       36 months  11.99%    185.98       B      B5         State of California     3 years     RENT            52884.0     Not Verified         May-11   Fully Paid   n           https://lendingclub.com/browse/loanDetail.action?loan_id=749396     Borrower added on 05/09/11 > Purpose of loan:<br/>I attempted to provide extremely detailed information but apparently the Lending Club is strict with description terms so I had to revise at least 5 times. Nevertheless, this loan will be used to pay for wedding expenses including a photographer, a videographer, and wedding invitations. Most of the wedding expenses have been accounted for.<br/>My financial situation:<br/>I am a good candidate for this loan because I am a full-time, permanent employee who earns a fixed gross monthly salary of $4,407, which supporting documentation will be provided for. My career is extremely secure, providing job stability. My monthly expenses are low; I do not have a mortgage, which is a significant expense. I&rsquo;m also concerned about improving my FICO scores, which gives me even increased incentive to make on time monthly payments. I&rsquo;ve never owned a house, and have not and will not be directly affected by the sub-prime crash. Please let this be an opportunity benefiting not only , but also yourself. Thank you.<br/>Monthly gross income: $ $4,407 Gross<br/>  wedding             Wedding - Photographer, videographer,etc  923xx     CA          15.18  Apr-01            0               5         7974       93.60%      17         f                    6592.905297   6592.91          5600.00          977.91         Jul-13        2116.10          May-16              1            INDIVIDUAL          1\n",
       "750212   949517     6000       6000         6000.000000       36 months  11.49%    197.83       B      B4         hot chocolate sparrow   5 years     RENT            24000.0     Not Verified         May-11   Fully Paid   n           https://lendingclub.com/browse/loanDetail.action?loan_id=750212     Borrower added on 05/08/11 > I'm trying to buy a good reliable car. I have a subaru picked out and have had it looked at. I live in a small town and it is a local sale so I am getting a good deal on the car. I have been a manager at a very successful cafe for five years, and will be able to repay. Thanks!<br/>                                                                                                                                                                                                                                                                                                                                                                                                                                                                                                                                                                                                                                                                                                                                                                                                                                       car                 car loan                                  026xx     MA          1.90   Oct-00            2               6         3869       30.30%      19         f                    7121.773326   7121.77          6000.00          1121.77        May-14        205.94           Nov-15              1            INDIVIDUAL          1\n",
       "750210   949515     9600       9600         9600.000000       60 months  13.49%    220.85       C      C2         Ameriprise              10+ years   MORTGAGE        100000.0    Not Verified         May-11   Fully Paid   n           https://lendingclub.com/browse/loanDetail.action?loan_id=750210     Borrower added on 05/08/11 > Adding a pool and small patio to the backyard.  Have been employed with the same company for over 15 years and have been in the home for over six.  Do not miss payments and always on time.<br/>                                                                                                                                                                                                                                                                                                                                                                                                                                                                                                                                                                                                                                                                                                                                                                                                                                                                                                                                home_improvement    Home Improvement Loan                     541xx     WI          10.97  Sep-95            3               11        12901      70.10%      37         f                    12573.250870  12573.25         9600.00          2973.25        May-14        4860.14          May-16              1            INDIVIDUAL          1\n",
       "750143   949442     24000      14775        14775.000000      36 months  7.49%     459.53       A      A4         Applied Materials       5 years     RENT            67000.0     Source Verified      May-11   Fully Paid   n           https://lendingclub.com/browse/loanDetail.action?loan_id=750143     Borrower added on 05/07/11 > Goal is to pay off high interest credit card bills I am a Financial Analyst in the Semiconductor industry. The high-tech industry is cyclical in nature and in 2008-2009 my company implemented a number of furlows which reduced my income by 25%. I had no other choice, but to use my credit card for living expenses and it's been very difficult to get my credit cards paid off with such high interest. I am a young professional and would love to be able to save some money to buy a house, but this credit card debt is making it nearly impossible. PLEASE help fund my loan. I have had a stable job with the same company for over 5 years and have a great credit history.<br/>                                                                                                                                                                                                                                                                                                                                                                                                                                   debt_consolidation  May2011_Personal_Loan                     787xx     TX          14.69  Apr-93            0               19        31582      38.70%      45         f                    16484.302570  16484.30         14775.00         1709.30        Apr-14        391.62           May-16              1            INDIVIDUAL          1\n",
       "                                                                                                                                                                                                                                                                                                                                                                                                                                                                                                                                                                                                                                                                                                                                                                                                                                                                                                                                                                                                                                                                                                                                                                                                                                                                                                                                                                                                                                                                                                                                                                                                                                                                                                                                                                                                                           ..\n",
       "514479   665045     3000       3000         3000.000000       36 months  13.85%    102.32       C      C4         Healing Health Center   1 year      RENT            16000.0     Not Verified         May-10   Fully Paid   n           https://lendingclub.com/browse/loanDetail.action?loan_id=514479     Borrower added on 05/11/10 > I have a car note and a credit card I would like to pay off and have one low monthly note.  Also the car note is in my ex-husbands name and I would like to get it paid off so I can have it transfered into my name.<br/>                                                                                                                                                                                                                                                                                                                                                                                                                                                                                                                                                                                                                                                                                                                                                                                                                                                                                                       other               Pay Off Bills                             704xx     LA          3.00   Nov-06            0               2         880        58.70%      6          f                    3466.330024   3466.33          3000.00          466.33         Jan-12        607.12           Feb-12              1            INDIVIDUAL          1\n",
       "514473   665034     24250      24250        23095.140000      36 months  11.36%    798.10       B      B5         State of Wisconsin-DOC  10+ years   MORTGAGE        77052.0     Verified             May-10   Fully Paid   n           https://lendingclub.com/browse/loanDetail.action?loan_id=514473     Borrower added on 05/10/10 > This loan will be used for debt consolidation.  I have an EXCELLENT credit score and have worked for the State of Wisconsin for 16 1/2 years.  I am currently a Section Chief for the Department of Corrections, and since I am in Corrections, I will have a job.<br/> Borrower added on 05/18/10 > We do have equity in our house and still have a mortgage.<br/>                                                                                                                                                                                                                                                                                                                                                                                                                                                                                                                                                                                                                                                                                                                                                              debt_consolidation  Debt Consolidation                        532xx     WI          11.23  Feb-94            1               14        19225      34%         48         f                    27655.021480  26198.47         24250.00         3405.02        Mar-12        3113.21          May-16              1            INDIVIDUAL          1\n",
       "514446   664995     8000       8000         8000.000000       36 months  10.25%    259.08       B      B2         Omni Services Inc       7 years     MORTGAGE        39996.0     Not Verified         May-10   Fully Paid   n           https://lendingclub.com/browse/loanDetail.action?loan_id=514446     Borrower added on 05/11/10 > I plan on paying off some debts. I also plan on buying a car.<br/> Borrower added on 05/11/10 > I have been with my place of employment for 7 years and still going.<br/> Borrower added on 05/11/10 > I also pay all my bills on time or ahead of time.<br/>                                                                                                                                                                                                                                                                                                                                                                                                                                                                                                                                                                                                                                                                                                                                                                                                                                                                    major_purchase      al                                        016xx     MA          3.81   Oct-00            0               5         6075       58.40%      7          f                    8968.999400   8969.00          8000.00          969.00         Nov-11        4587.91          May-16              1            INDIVIDUAL          1\n",
       "514399   664939     15000      15000        14501.912530      36 months  10.62%    488.40       B      B3         American Express        10+ years   RENT            66000.0     Source Verified      May-10   Charged Off  n           https://lendingclub.com/browse/loanDetail.action?loan_id=514399     Borrower added on 05/11/10 > I am applying for a personal loan to consolidate my credit card debt into one monthly payment.<br/> Borrower added on 05/12/10 > I would like to note that having this loan not only will consolidate my debt into one monthly payment, it will also help me save on my current credit card interest rates significantly, allowing me to pay off my debt much faster.<br/>                                                                                                                                                                                                                                                                                                                                                                                                                                                                                                                                                                                                                                                                                                                                                       debt_consolidation  savings                                   926xx     CA          9.55   Apr-96            0               9         17835      53.10%      41         f                    1513.160000   1496.71          1073.95          387.95         Aug-10        488.40           May-16              1            INDIVIDUAL          1\n",
       "1077430  1314167    2500       2500         2500.000000       60 months  15.27%    59.83        C      C4         Ryder                   < 1 year    RENT            30000.0     Source Verified      Dec-11   Charged Off  n           https://lendingclub.com/browse/loanDetail.action?loan_id=1077430    Borrower added on 12/22/11 > I plan to use this money to finance the motorcycle i am looking at. I plan to have it paid off as soon as possible/when i sell my old bike. I only need this money because the deal im looking at is to good to pass up.<br><br>  Borrower added on 12/22/11 > I plan to use this money to finance the motorcycle i am looking at. I plan to have it paid off as soon as possible/when i sell my old bike.I only need this money because the deal im looking at is to good to pass up. I have finished college with an associates degree in business and its takingmeplaces<br>                                                                                                                                                                                                                                                                                                                                                                                                                                                                                                                                                  car                 bike                                      309xx     GA          1.00   Apr-99            5               3         1687       9.40%       4          f                    1008.710000   1008.71          456.46           435.17         Apr-13        119.66           Sep-13              1            INDIVIDUAL          1\n",
       "Name: count, Length: 25057, dtype: int64"
      ]
     },
     "execution_count": 8,
     "metadata": {},
     "output_type": "execute_result"
    }
   ],
   "source": [
    "#check Duplicate data\n",
    "loan.value_counts()"
   ]
  },
  {
   "cell_type": "code",
   "execution_count": 9,
   "metadata": {},
   "outputs": [],
   "source": [
    "#Columns pymnt_plan,initial_list_status,policy_code,application_type has same value for all rows. It doesnt give proper data variation trend. \n",
    "# Drop columns.\n",
    "loan.drop(['pymnt_plan','initial_list_status','policy_code','application_type'],axis=1,inplace=True)\n"
   ]
  },
  {
   "cell_type": "code",
   "execution_count": 10,
   "metadata": {},
   "outputs": [
    {
     "data": {
      "text/plain": [
       "id                         0\n",
       "member_id                  0\n",
       "loan_amnt                  0\n",
       "funded_amnt                0\n",
       "funded_amnt_inv            0\n",
       "term                       0\n",
       "int_rate                   0\n",
       "installment                0\n",
       "grade                      0\n",
       "sub_grade                  0\n",
       "emp_title               2459\n",
       "emp_length              1075\n",
       "home_ownership             0\n",
       "annual_inc                 0\n",
       "verification_status        0\n",
       "issue_d                    0\n",
       "loan_status                0\n",
       "url                        0\n",
       "desc                   12942\n",
       "purpose                    0\n",
       "title                     11\n",
       "zip_code                   0\n",
       "addr_state                 0\n",
       "dti                        0\n",
       "earliest_cr_line           0\n",
       "inq_last_6mths             0\n",
       "open_acc                   0\n",
       "revol_bal                  0\n",
       "revol_util                50\n",
       "total_acc                  0\n",
       "total_pymnt                0\n",
       "total_pymnt_inv            0\n",
       "total_rec_prncp            0\n",
       "total_rec_int              0\n",
       "last_pymnt_d              71\n",
       "last_pymnt_amnt            0\n",
       "last_credit_pull_d         2\n",
       "dtype: int64"
      ]
     },
     "execution_count": 10,
     "metadata": {},
     "output_type": "execute_result"
    }
   ],
   "source": [
    "# Re-verify dataset\n",
    "loan.value_counts()\n",
    "\n",
    "# Re-Count null values\n",
    "loan.isnull().sum() "
   ]
  },
  {
   "cell_type": "code",
   "execution_count": 11,
   "metadata": {},
   "outputs": [],
   "source": [
    "# Check desc column for missing values\n",
    "loan.desc.value_counts()\n",
    "\n",
    "# Since this column has meaningful values which can give us insights, it is not safe to drop the column\n",
    "# Replace missing values with 'Not Available'\n",
    "loan.desc.fillna('Not Available',inplace=True)"
   ]
  },
  {
   "cell_type": "code",
   "execution_count": 12,
   "metadata": {},
   "outputs": [
    {
     "data": {
      "text/plain": [
       "(39717, 37)"
      ]
     },
     "execution_count": 12,
     "metadata": {},
     "output_type": "execute_result"
    }
   ],
   "source": [
    "# Check emp title column for missing values\n",
    "loan[loan['emp_title'].isna()]\n",
    "\n",
    "# Since this column has meaningful values which can give us insights, it is not safe to drop the column\n",
    "# Check emp title column for most common value\n",
    "loan['emp_title'].mode()\n",
    "\n",
    "# Replace missing values with most frequent value\n",
    "loan['emp_title'].fillna(value=loan['emp_title'].mode().values[0],inplace=True)\n",
    "\n",
    "# Re-Count null values\n",
    "loan.isnull().sum() \n",
    "loan.shape\n"
   ]
  },
  {
   "cell_type": "code",
   "execution_count": 27,
   "metadata": {},
   "outputs": [
    {
     "data": {
      "text/plain": [
       "<bound method DataFrame.reset_index of             id  member_id  loan_amnt  funded_amnt  funded_amnt_inv  \\\n",
       "0      1077501    1296599       5000         5000           4975.0   \n",
       "1      1077430    1314167       2500         2500           2500.0   \n",
       "2      1077175    1313524       2400         2400           2400.0   \n",
       "3      1076863    1277178      10000        10000          10000.0   \n",
       "4      1075358    1311748       3000         3000           3000.0   \n",
       "...        ...        ...        ...          ...              ...   \n",
       "39712    92187      92174       2500         2500           1075.0   \n",
       "39713    90665      90607       8500         8500            875.0   \n",
       "39714    90395      90390       5000         5000           1325.0   \n",
       "39715    90376      89243       5000         5000            650.0   \n",
       "39716    87023      86999       7500         7500            800.0   \n",
       "\n",
       "             term int_rate  installment grade sub_grade  ... revol_bal  \\\n",
       "0       36 months   10.65%       162.87     B        B2  ...     13648   \n",
       "1       60 months   15.27%        59.83     C        C4  ...      1687   \n",
       "2       36 months   15.96%        84.33     C        C5  ...      2956   \n",
       "3       36 months   13.49%       339.31     C        C1  ...      5598   \n",
       "4       60 months   12.69%        67.79     B        B5  ...     27783   \n",
       "...           ...      ...          ...   ...       ...  ...       ...   \n",
       "39712   36 months    8.07%        78.42     A        A4  ...      7274   \n",
       "39713   36 months   10.28%       275.38     C        C1  ...      8847   \n",
       "39714   36 months    8.07%       156.84     A        A4  ...      9698   \n",
       "39715   36 months    7.43%       155.38     A        A2  ...     85607   \n",
       "39716   36 months   13.75%       255.43     E        E2  ...      4175   \n",
       "\n",
       "      revol_util total_acc   total_pymnt total_pymnt_inv total_rec_prncp  \\\n",
       "0         83.70%         9   5863.155187         5833.84         5000.00   \n",
       "1          9.40%         4   1008.710000         1008.71          456.46   \n",
       "2         98.50%        10   3005.666844         3005.67         2400.00   \n",
       "3            21%        37  12231.890000        12231.89        10000.00   \n",
       "4         53.90%        38   3513.330000         3513.33         2475.94   \n",
       "...          ...       ...           ...             ...             ...   \n",
       "39712     13.10%        40   2822.969293         1213.88         2500.00   \n",
       "39713     26.90%         9   9913.491822         1020.51         8500.00   \n",
       "39714     19.40%        20   5272.161128         1397.12         5000.00   \n",
       "39715      0.70%        26   5174.198551          672.66         5000.00   \n",
       "39716     51.50%         8   9195.263334          980.83         7500.00   \n",
       "\n",
       "      total_rec_int last_pymnt_d last_pymnt_amnt last_credit_pull_d  \n",
       "0            863.16       Jan-15          171.62             May-16  \n",
       "1            435.17       Apr-13          119.66             Sep-13  \n",
       "2            605.67       Jun-14          649.91             May-16  \n",
       "3           2214.92       Jan-15          357.48             Apr-16  \n",
       "4           1037.39       May-16           67.79             May-16  \n",
       "...             ...          ...             ...                ...  \n",
       "39712        322.97       Jul-10           80.90             Jun-10  \n",
       "39713       1413.49       Jul-10          281.94             Jul-10  \n",
       "39714        272.16       Apr-08            0.00             Jun-07  \n",
       "39715        174.20       Jan-08            0.00             Jun-07  \n",
       "39716       1695.26       Jun-10          256.59             Jun-10  \n",
       "\n",
       "[38642 rows x 37 columns]>"
      ]
     },
     "execution_count": 27,
     "metadata": {},
     "output_type": "execute_result"
    }
   ],
   "source": [
    "# Check employment length (emp_length) column for missing values\n",
    "loan['emp_length'].isna().sum()\n",
    "\n",
    "# Replacing NaN values with any other value will cause an impact on the computations. So we are dropping rows with empty values.\n",
    "loan = loan[~loan['emp_length'].isna()]\n",
    "\n",
    "# Re-Count null values\n",
    "loan.isnull().sum() \n",
    "\n",
    "# Reset index\n",
    "loan.reset_index\n"
   ]
  },
  {
   "cell_type": "code",
   "execution_count": 84,
   "metadata": {},
   "outputs": [
    {
     "data": {
      "text/plain": [
       "id                      0\n",
       "member_id               0\n",
       "loan_amnt               0\n",
       "funded_amnt             0\n",
       "funded_amnt_inv         0\n",
       "term                    0\n",
       "int_rate                0\n",
       "installment             0\n",
       "grade                   0\n",
       "sub_grade               0\n",
       "emp_title               0\n",
       "emp_length              0\n",
       "home_ownership          0\n",
       "annual_inc              0\n",
       "verification_status     0\n",
       "issue_d                 0\n",
       "loan_status             0\n",
       "url                     0\n",
       "desc                    0\n",
       "purpose                 0\n",
       "title                   0\n",
       "zip_code                0\n",
       "addr_state              0\n",
       "dti                     0\n",
       "earliest_cr_line        0\n",
       "inq_last_6mths          0\n",
       "open_acc                0\n",
       "revol_bal               0\n",
       "revol_util             47\n",
       "total_acc               0\n",
       "total_pymnt             0\n",
       "total_pymnt_inv         0\n",
       "total_rec_prncp         0\n",
       "total_rec_int           0\n",
       "last_pymnt_d           66\n",
       "last_pymnt_amnt         0\n",
       "last_credit_pull_d      2\n",
       "dtype: int64"
      ]
     },
     "execution_count": 84,
     "metadata": {},
     "output_type": "execute_result"
    }
   ],
   "source": [
    "# Check title column for missing values\n",
    "loan[loan.title.isnull()]\n",
    "\n",
    "# Since this column has meaningful values which can give us insights, it is not safe to drop the column\n",
    "# This column is a categorization of the column purpose , we can use the same value to fill up missing values \n",
    "loan.loc[(loan['title'].isna()), 'title'] = loan[loan.title.isnull()].purpose.values\n",
    "\n",
    "# Re-Count null value\n",
    "loan.isna().sum()\n"
   ]
  },
  {
   "cell_type": "code",
   "execution_count": 93,
   "metadata": {},
   "outputs": [
    {
     "data": {
      "text/plain": [
       "id                      0\n",
       "member_id               0\n",
       "loan_amnt               0\n",
       "funded_amnt             0\n",
       "funded_amnt_inv         0\n",
       "term                    0\n",
       "int_rate                0\n",
       "installment             0\n",
       "grade                   0\n",
       "sub_grade               0\n",
       "emp_title               0\n",
       "emp_length              0\n",
       "home_ownership          0\n",
       "annual_inc              0\n",
       "verification_status     0\n",
       "issue_d                 0\n",
       "loan_status             0\n",
       "url                     0\n",
       "desc                    0\n",
       "purpose                 0\n",
       "title                   0\n",
       "zip_code                0\n",
       "addr_state              0\n",
       "dti                     0\n",
       "earliest_cr_line        0\n",
       "inq_last_6mths          0\n",
       "open_acc                0\n",
       "revol_bal               0\n",
       "revol_util             43\n",
       "total_acc               0\n",
       "total_pymnt             0\n",
       "total_pymnt_inv         0\n",
       "total_rec_prncp         0\n",
       "total_rec_int           0\n",
       "last_pymnt_d            0\n",
       "last_pymnt_amnt         0\n",
       "last_credit_pull_d      2\n",
       "dtype: int64"
      ]
     },
     "execution_count": 93,
     "metadata": {},
     "output_type": "execute_result"
    }
   ],
   "source": [
    "# Check last_pymnt_d column for missing values\n",
    "loan[loan.last_pymnt_d.isnull()]\n",
    "\n",
    "# All of records with missing value for 'last_pymnt_d' belongs to loans with status as 'Charged off'. \n",
    "# Check total count of data for loan status as 'Charged off'\n",
    "loan['loan_status'].value_counts() \n",
    "# 66 out of 5399 records have missing values for 'last_pymnt_d' which is roughly only 1.2% of the data count.\n",
    "# Hence removing 66 records should not affect the overall analysis for charged off records.\n",
    "\n",
    "#Removing rows with missing values for 'last_pymnt_d'\n",
    "loan = loan[~loan['last_pymnt_d'].isna()]\n",
    "\n",
    "# Re-Count null value\n",
    "loan.isna().sum()"
   ]
  },
  {
   "cell_type": "code",
   "execution_count": 95,
   "metadata": {},
   "outputs": [
    {
     "data": {
      "text/plain": [
       "id                      0\n",
       "member_id               0\n",
       "loan_amnt               0\n",
       "funded_amnt             0\n",
       "funded_amnt_inv         0\n",
       "term                    0\n",
       "int_rate                0\n",
       "installment             0\n",
       "grade                   0\n",
       "sub_grade               0\n",
       "emp_title               0\n",
       "emp_length              0\n",
       "home_ownership          0\n",
       "annual_inc              0\n",
       "verification_status     0\n",
       "issue_d                 0\n",
       "loan_status             0\n",
       "url                     0\n",
       "desc                    0\n",
       "purpose                 0\n",
       "title                   0\n",
       "zip_code                0\n",
       "addr_state              0\n",
       "dti                     0\n",
       "earliest_cr_line        0\n",
       "inq_last_6mths          0\n",
       "open_acc                0\n",
       "revol_bal               0\n",
       "revol_util             43\n",
       "total_acc               0\n",
       "total_pymnt             0\n",
       "total_pymnt_inv         0\n",
       "total_rec_prncp         0\n",
       "total_rec_int           0\n",
       "last_pymnt_d            0\n",
       "last_pymnt_amnt         0\n",
       "last_credit_pull_d      0\n",
       "dtype: int64"
      ]
     },
     "execution_count": 95,
     "metadata": {},
     "output_type": "execute_result"
    }
   ],
   "source": [
    "# Check last_credit_pull_d column for missing values\n",
    "loan[loan.last_credit_pull_d.isnull()]\n",
    "\n",
    "# All of records with missing value for 'last_credit_pull_d' belongs to loans with status as 'Charged off'. \n",
    "# Check total count of data for loan status as 'Charged off'\n",
    "loan['loan_status'].value_counts() \n",
    "# 66 out of 5333 records have missing values for 'last_plast_credit_pull_d' which is roughly only 0.03% of the data count.\n",
    "# Hence removing 2 records should not affect the overall analysis for charged off records.\n",
    "\n",
    "#Removing rows with missing values for 'last_credit_pull_d'\n",
    "loan = loan[~loan['last_credit_pull_d'].isna()]\n",
    "\n",
    "# Re-Count null value\n",
    "loan.isna().sum()"
   ]
  }
 ],
 "metadata": {
  "kernelspec": {
   "display_name": "base",
   "language": "python",
   "name": "python3"
  },
  "language_info": {
   "codemirror_mode": {
    "name": "ipython",
    "version": 3
   },
   "file_extension": ".py",
   "mimetype": "text/x-python",
   "name": "python",
   "nbconvert_exporter": "python",
   "pygments_lexer": "ipython3",
   "version": "3.11.7"
  }
 },
 "nbformat": 4,
 "nbformat_minor": 2
}
